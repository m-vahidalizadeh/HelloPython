{
  "nbformat": 4,
  "nbformat_minor": 0,
  "metadata": {
    "colab": {
      "provenance": [],
      "authorship_tag": "ABX9TyP62UebdWcADqu2uMDHeoYT",
      "include_colab_link": true
    },
    "kernelspec": {
      "name": "python3",
      "display_name": "Python 3"
    },
    "language_info": {
      "name": "python"
    }
  },
  "cells": [
    {
      "cell_type": "markdown",
      "metadata": {
        "id": "view-in-github",
        "colab_type": "text"
      },
      "source": [
        "<a href=\"https://colab.research.google.com/github/m-vahidalizadeh/HelloPython/blob/main/helloPython.ipynb\" target=\"_parent\"><img src=\"https://colab.research.google.com/assets/colab-badge.svg\" alt=\"Open In Colab\"/></a>"
      ]
    },
    {
      "cell_type": "code",
      "execution_count": null,
      "metadata": {
        "colab": {
          "base_uri": "https://localhost:8080/"
        },
        "id": "ft5q3ROjZiIB",
        "outputId": "ed278adb-d180-4622-9e89-bf5c5f3d5526"
      },
      "outputs": [
        {
          "output_type": "stream",
          "name": "stdout",
          "text": [
            "Hello World!\n",
            "What is your name? Vahid\n",
            "Nice to meet you Vahid\n"
          ]
        }
      ],
      "source": [
        "print(\"Hello World!\")\n",
        "name = input(\"What is your name? \")\n",
        "print(\"Nice to meet you\", name)"
      ]
    },
    {
      "cell_type": "code",
      "source": [
        "# This is my first comment\n",
        "myint = 10\n",
        "myfloat = 13.2576\n",
        "mystr = \"This is a string\"\n",
        "mybool = True\n",
        "print(myint)\n",
        "print(mystr)\n",
        "print(myint + myfloat)\n",
        "print(myint * myfloat)\n",
        "print(myint / myfloat)\n",
        "print(myint % 3)"
      ],
      "metadata": {
        "colab": {
          "base_uri": "https://localhost:8080/"
        },
        "id": "ovLopBv1byKj",
        "outputId": "1db8dbab-2375-4d81-8b57-ce9a81b81498"
      },
      "execution_count": null,
      "outputs": [
        {
          "output_type": "stream",
          "name": "stdout",
          "text": [
            "10\n",
            "This is a string\n",
            "23.2576\n",
            "132.576\n",
            "0.7542843350229302\n",
            "1\n"
          ]
        }
      ]
    },
    {
      "cell_type": "code",
      "source": [
        "another_str = \"This is another string\"\n",
        "print(mystr + another_str)\n",
        "print(\"nom \" * 3)\n",
        "# print(mystr + myint)"
      ],
      "metadata": {
        "colab": {
          "base_uri": "https://localhost:8080/"
        },
        "id": "BL1aPGVOef5H",
        "outputId": "2709c4ec-621f-449b-a125-fccb2ffd5f0a"
      },
      "execution_count": null,
      "outputs": [
        {
          "output_type": "stream",
          "name": "stdout",
          "text": [
            "This is a stringThis is another string\n",
            "nom nom nom \n"
          ]
        }
      ]
    },
    {
      "cell_type": "code",
      "source": [
        "print(myint == 10)\n",
        "print(myfloat != 20)\n",
        "print(myint > 20)\n",
        "print(myfloat < 10)\n",
        "print(\"Combinations!\")\n",
        "print(5 < myint and myint <20)\n",
        "print(5 < myint or 25.0 < myfloat)\n",
        "print(10 < myint or 25.0 < myfloat)\n",
        "print(not(10 < myint))\n",
        "myint = \"Hello World!\"\n",
        "print(myint)"
      ],
      "metadata": {
        "colab": {
          "base_uri": "https://localhost:8080/"
        },
        "id": "A_VMZGuasVih",
        "outputId": "52b558da-dbd1-45d3-f4de-caf12944ba68"
      },
      "execution_count": null,
      "outputs": [
        {
          "output_type": "stream",
          "name": "stdout",
          "text": [
            "True\n",
            "True\n",
            "False\n",
            "False\n",
            "Combinations!\n",
            "True\n",
            "True\n",
            "False\n",
            "True\n",
            "Hello World!\n"
          ]
        }
      ]
    },
    {
      "cell_type": "code",
      "source": [
        "mylist = [1, 2, 3, 4, \"Ali\", \"Mohammad\", True]\n",
        "print(mylist)\n",
        "print(mylist[-1])\n",
        "print(mylist[0])\n",
        "print(mylist[::-1])\n",
        "print(mylist[1:5:2])\n",
        "anotherlist=[6,7,8]\n",
        "mylist = mylist + anotherlist\n",
        "print(mylist)\n",
        "print(1 in mylist)\n",
        "print(12 in mylist)"
      ],
      "metadata": {
        "colab": {
          "base_uri": "https://localhost:8080/"
        },
        "id": "n1679nXDJunq",
        "outputId": "efd82224-b0e1-4257-9b7e-bd556011b98f"
      },
      "execution_count": null,
      "outputs": [
        {
          "output_type": "stream",
          "name": "stdout",
          "text": [
            "[1, 2, 3, 4, 'Ali', 'Mohammad', True]\n",
            "True\n",
            "1\n",
            "[True, 'Mohammad', 'Ali', 4, 3, 2, 1]\n",
            "[2, 4]\n",
            "[1, 2, 3, 4, 'Ali', 'Mohammad', True, 6, 7, 8]\n",
            "True\n",
            "False\n"
          ]
        }
      ]
    },
    {
      "cell_type": "code",
      "source": [
        "mytuple = (10,11,12)\n",
        "print(mytuple[1])\n",
        "print(1 in mytuple)\n",
        "myset = {1,2,2,2,3,4,5}\n",
        "print(myset)\n",
        "print(2 in myset)\n",
        "mystr = \"Mohammad\"\n",
        "print(mystr[1])\n",
        "print(mystr[::-1])"
      ],
      "metadata": {
        "colab": {
          "base_uri": "https://localhost:8080/"
        },
        "id": "48WFtKImKhGh",
        "outputId": "58830cbf-3b16-4b36-da3f-7cf24201c071"
      },
      "execution_count": null,
      "outputs": [
        {
          "output_type": "stream",
          "name": "stdout",
          "text": [
            "11\n",
            "False\n",
            "{1, 2, 3, 4, 5}\n",
            "True\n",
            "o\n",
            "dammahoM\n"
          ]
        }
      ]
    },
    {
      "cell_type": "code",
      "source": [
        "mydict = {\n",
        "    1 : \"One\",\n",
        "    2: \"Two\",\n",
        "    \"Three\": 3,\n",
        "    \"Four\" : [1,2,3,4],\n",
        "    5.2 : \"Five\"\n",
        "}\n",
        "print(mydict)\n",
        "print(mydict[\"Four\"])\n",
        "print(mydict.keys())\n",
        "print(mydict.values())\n",
        "for key, value in mydict.items():\n",
        "  print(key, value)\n",
        "print(5.2 in mydict)\n",
        "print(5.3 in mydict)"
      ],
      "metadata": {
        "colab": {
          "base_uri": "https://localhost:8080/"
        },
        "id": "ZsdN3pbuwUvI",
        "outputId": "bb5a947e-2547-4dd4-886a-b4b9f4d5b109"
      },
      "execution_count": 4,
      "outputs": [
        {
          "output_type": "stream",
          "name": "stdout",
          "text": [
            "{1: 'One', 2: 'Two', 'Three': 3, 'Four': [1, 2, 3, 4], 5.2: 'Five'}\n",
            "[1, 2, 3, 4]\n",
            "dict_keys([1, 2, 'Three', 'Four', 5.2])\n",
            "dict_values(['One', 'Two', 3, [1, 2, 3, 4], 'Five'])\n",
            "1 One\n",
            "2 Two\n",
            "Three 3\n",
            "Four [1, 2, 3, 4]\n",
            "5.2 Five\n",
            "True\n",
            "False\n"
          ]
        }
      ]
    },
    {
      "cell_type": "code",
      "source": [
        "x, y= 10, 100\n",
        "if x < y:\n",
        "  print(\"X is less than Y.\")\n",
        "elif x==y:\n",
        "  print(\"X equals Y.\")\n",
        "else:\n",
        "  print(\"X is greater than Y.\")\n",
        "x, y=100, 100\n",
        "result = \"X is less than or equals Y.\" if(x<=y) else \"X is greater than Y.\"\n",
        "print(result)"
      ],
      "metadata": {
        "colab": {
          "base_uri": "https://localhost:8080/"
        },
        "id": "6RbMSWqtz3lR",
        "outputId": "4d9319df-3440-4078-b6db-2215bbb70ba8"
      },
      "execution_count": 6,
      "outputs": [
        {
          "output_type": "stream",
          "name": "stdout",
          "text": [
            "X is less than Y.\n",
            "X is less than or equals Y.\n"
          ]
        }
      ]
    },
    {
      "cell_type": "code",
      "source": [
        "days=[\"Mon\",\"Tue\",\"Wed\",\"Thu\",\"Fri\",\"Sat\",\"Sun\"]\n",
        "for d in days:\n",
        "  print(d)\n",
        "print(\"----------\")\n",
        "\n",
        "for d in days:\n",
        "  if d==\"Fri\":\n",
        "    break\n",
        "  print(d)\n",
        "print(\"----------\")\n",
        "\n",
        "for d in days:\n",
        "  if d==\"Thu\":\n",
        "    continue\n",
        "  print(d)\n",
        "print(\"----------\")\n",
        "\n",
        "for i,d in enumerate(days):\n",
        "  print(i, d)\n",
        "print(\"----------\")"
      ],
      "metadata": {
        "colab": {
          "base_uri": "https://localhost:8080/"
        },
        "id": "_Aip_rGurGrI",
        "outputId": "9cfa7ae3-04d8-4c88-c29f-58472832587b"
      },
      "execution_count": 2,
      "outputs": [
        {
          "output_type": "stream",
          "name": "stdout",
          "text": [
            "Mon\n",
            "Tue\n",
            "Wed\n",
            "Thu\n",
            "Fri\n",
            "Sat\n",
            "Sun\n",
            "----------\n",
            "Mon\n",
            "Tue\n",
            "Wed\n",
            "Thu\n",
            "----------\n",
            "Mon\n",
            "Tue\n",
            "Wed\n",
            "Fri\n",
            "Sat\n",
            "Sun\n",
            "----------\n",
            "0 Mon\n",
            "1 Tue\n",
            "2 Wed\n",
            "3 Thu\n",
            "4 Fri\n",
            "5 Sat\n",
            "6 Sun\n",
            "----------\n"
          ]
        }
      ]
    },
    {
      "cell_type": "code",
      "source": [
        "ans=input(\"Should I stop?\")\n",
        "while ans!=\"yes\":\n",
        "  print(ans)\n",
        "  ans=input(\"Should I stop?\")"
      ],
      "metadata": {
        "colab": {
          "base_uri": "https://localhost:8080/"
        },
        "id": "VvjXCfaNr9g3",
        "outputId": "77be7872-0d78-410b-aa13-009800fdf1af"
      },
      "execution_count": 3,
      "outputs": [
        {
          "name": "stdout",
          "output_type": "stream",
          "text": [
            "Should I stop?No\n",
            "No\n",
            "Should I stop?Mohammad\n",
            "Mohammad\n",
            "Should I stop?yes\n"
          ]
        }
      ]
    },
    {
      "cell_type": "code",
      "source": [
        "def print_name():\n",
        "  name=input(\"What is your name?\")\n",
        "  print(\"Hi, \", name, \"!\")\n",
        "\n",
        "print_name();\n",
        "\n",
        "def greeting_name(greeting, name=None):\n",
        "  if name==None:\n",
        "    name=input(\"What is your name\")\n",
        "  print(greeting, name)\n",
        "\n",
        "greeting_name(\"How are your doing\", \"Vahid\")\n",
        "greeting_name(\"What's up\")\n",
        "\n",
        "def cube(x):\n",
        "  return x*x*x\n",
        "\n",
        "result=cube(3)\n",
        "print(result)"
      ],
      "metadata": {
        "colab": {
          "base_uri": "https://localhost:8080/"
        },
        "id": "z7teei0vZpIM",
        "outputId": "b10f8c03-c3fb-4663-da5c-f16e11eed7c3"
      },
      "execution_count": 4,
      "outputs": [
        {
          "output_type": "stream",
          "name": "stdout",
          "text": [
            "What is your name?Vahid\n",
            "Hi,  Vahid !\n",
            "How are your doing Vahid\n",
            "What is your nameVahid\n",
            "What's up Vahid\n",
            "27\n"
          ]
        }
      ]
    },
    {
      "cell_type": "code",
      "source": [
        "mystr=\"This is my string!\"\n",
        "mylist=[1,25,6,9,2,13,19]\n",
        "print(len(mystr))\n",
        "print(len(mylist))\n",
        "print(max(mystr))\n",
        "print(min(mylist))"
      ],
      "metadata": {
        "colab": {
          "base_uri": "https://localhost:8080/"
        },
        "id": "yB7fzOUJ39eh",
        "outputId": "4908446f-a2d5-45ae-d1b9-096efae8ad4d"
      },
      "execution_count": 4,
      "outputs": [
        {
          "output_type": "stream",
          "name": "stdout",
          "text": [
            "18\n",
            "7\n",
            "y\n",
            "1\n"
          ]
        }
      ]
    },
    {
      "cell_type": "code",
      "source": [
        "result=\"My lucky number is\" + str(7)\n",
        "print(result)\n",
        "result=\"Pi is \" + str(3.1415)\n",
        "print(result)"
      ],
      "metadata": {
        "colab": {
          "base_uri": "https://localhost:8080/"
        },
        "id": "g0EcJt5n7R4N",
        "outputId": "3fa49453-8157-4151-df30-21e1e554c3ae"
      },
      "execution_count": 6,
      "outputs": [
        {
          "output_type": "stream",
          "name": "stdout",
          "text": [
            "My lucky number is7\n",
            "Pi is 3.1415\n"
          ]
        }
      ]
    },
    {
      "cell_type": "code",
      "source": [
        "for i in range(5,16):\n",
        "  print(i)\n",
        "for i in range(2,len(result),2):\n",
        "  print(result[i])\n",
        "greeting=\"Hello\"\n",
        "count=2\n",
        "print(f\"{greeting}! I have {count} hands.\")"
      ],
      "metadata": {
        "colab": {
          "base_uri": "https://localhost:8080/"
        },
        "id": "sSoK57zA99c0",
        "outputId": "b4c2b165-464f-4a26-b138-fd7d2c4c7866"
      },
      "execution_count": 8,
      "outputs": [
        {
          "output_type": "stream",
          "name": "stdout",
          "text": [
            "5\n",
            "6\n",
            "7\n",
            "8\n",
            "9\n",
            "10\n",
            "11\n",
            "12\n",
            "13\n",
            "14\n",
            "15\n",
            " \n",
            "s\n",
            "3\n",
            "1\n",
            "1\n",
            "Hello! I have 2 hands.\n"
          ]
        }
      ]
    },
    {
      "cell_type": "code",
      "source": [
        "class vehicle:\n",
        "  def __init__(self, engine):\n",
        "    self.engine=engine\n",
        "\n",
        "  def drive(self, speed):\n",
        "    self.mode=\"driving\"\n",
        "    self.speed=speed\n",
        "\n",
        "class car(vehicle):\n",
        "  def __init__(self, engine):\n",
        "    super().__init__(engine)\n",
        "    self.doors=4\n",
        "\n",
        "  def drive(self, speed):\n",
        "    super().drive(speed)\n",
        "    print(f\"I am driving my car with speed {speed}!\")\n",
        "\n",
        "car1=car(\"Electric\")\n",
        "car1.drive(50)"
      ],
      "metadata": {
        "colab": {
          "base_uri": "https://localhost:8080/"
        },
        "id": "V5fLOZ3WiYs8",
        "outputId": "6853aa44-f7d5-4f91-eb54-fcd1a20291d2"
      },
      "execution_count": 3,
      "outputs": [
        {
          "output_type": "stream",
          "name": "stdout",
          "text": [
            "I am driving my car with speed 50!\n"
          ]
        }
      ]
    }
  ]
}
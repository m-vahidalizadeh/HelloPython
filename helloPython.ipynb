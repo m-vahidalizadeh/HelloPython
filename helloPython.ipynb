{
  "nbformat": 4,
  "nbformat_minor": 0,
  "metadata": {
    "colab": {
      "provenance": [],
      "authorship_tag": "ABX9TyNM6idFgmgIe/RygDSSFMhm",
      "include_colab_link": true
    },
    "kernelspec": {
      "name": "python3",
      "display_name": "Python 3"
    },
    "language_info": {
      "name": "python"
    }
  },
  "cells": [
    {
      "cell_type": "markdown",
      "metadata": {
        "id": "view-in-github",
        "colab_type": "text"
      },
      "source": [
        "<a href=\"https://colab.research.google.com/github/m-vahidalizadeh/HelloPython/blob/main/helloPython.ipynb\" target=\"_parent\"><img src=\"https://colab.research.google.com/assets/colab-badge.svg\" alt=\"Open In Colab\"/></a>"
      ]
    },
    {
      "cell_type": "code",
      "execution_count": 2,
      "metadata": {
        "colab": {
          "base_uri": "https://localhost:8080/"
        },
        "id": "ft5q3ROjZiIB",
        "outputId": "ed278adb-d180-4622-9e89-bf5c5f3d5526"
      },
      "outputs": [
        {
          "output_type": "stream",
          "name": "stdout",
          "text": [
            "Hello World!\n",
            "What is your name? Vahid\n",
            "Nice to meet you Vahid\n"
          ]
        }
      ],
      "source": [
        "print(\"Hello World!\")\n",
        "name = input(\"What is your name? \")\n",
        "print(\"Nice to meet you\", name)"
      ]
    }
  ]
}
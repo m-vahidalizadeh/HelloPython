{
  "nbformat": 4,
  "nbformat_minor": 0,
  "metadata": {
    "colab": {
      "provenance": [],
      "authorship_tag": "ABX9TyNJsT4fBOuT8L0a+AfxEMOO",
      "include_colab_link": true
    },
    "kernelspec": {
      "name": "python3",
      "display_name": "Python 3"
    },
    "language_info": {
      "name": "python"
    }
  },
  "cells": [
    {
      "cell_type": "markdown",
      "metadata": {
        "id": "view-in-github",
        "colab_type": "text"
      },
      "source": [
        "<a href=\"https://colab.research.google.com/github/m-vahidalizadeh/HelloPython/blob/main/helloPython.ipynb\" target=\"_parent\"><img src=\"https://colab.research.google.com/assets/colab-badge.svg\" alt=\"Open In Colab\"/></a>"
      ]
    },
    {
      "cell_type": "code",
      "execution_count": null,
      "metadata": {
        "colab": {
          "base_uri": "https://localhost:8080/"
        },
        "id": "ft5q3ROjZiIB",
        "outputId": "ed278adb-d180-4622-9e89-bf5c5f3d5526"
      },
      "outputs": [
        {
          "output_type": "stream",
          "name": "stdout",
          "text": [
            "Hello World!\n",
            "What is your name? Vahid\n",
            "Nice to meet you Vahid\n"
          ]
        }
      ],
      "source": [
        "print(\"Hello World!\")\n",
        "name = input(\"What is your name? \")\n",
        "print(\"Nice to meet you\", name)"
      ]
    },
    {
      "cell_type": "code",
      "source": [
        "# This is my first comment\n",
        "myint = 10\n",
        "myfloat = 13.2576\n",
        "mystr = \"This is a string\"\n",
        "mybool = True\n",
        "print(myint)\n",
        "print(mystr)\n",
        "print(myint + myfloat)\n",
        "print(myint * myfloat)\n",
        "print(myint / myfloat)\n",
        "print(myint % 3)"
      ],
      "metadata": {
        "colab": {
          "base_uri": "https://localhost:8080/"
        },
        "id": "ovLopBv1byKj",
        "outputId": "1db8dbab-2375-4d81-8b57-ce9a81b81498"
      },
      "execution_count": null,
      "outputs": [
        {
          "output_type": "stream",
          "name": "stdout",
          "text": [
            "10\n",
            "This is a string\n",
            "23.2576\n",
            "132.576\n",
            "0.7542843350229302\n",
            "1\n"
          ]
        }
      ]
    },
    {
      "cell_type": "code",
      "source": [
        "another_str = \"This is another string\"\n",
        "print(mystr + another_str)\n",
        "print(\"nom \" * 3)\n",
        "# print(mystr + myint)"
      ],
      "metadata": {
        "colab": {
          "base_uri": "https://localhost:8080/"
        },
        "id": "BL1aPGVOef5H",
        "outputId": "2709c4ec-621f-449b-a125-fccb2ffd5f0a"
      },
      "execution_count": null,
      "outputs": [
        {
          "output_type": "stream",
          "name": "stdout",
          "text": [
            "This is a stringThis is another string\n",
            "nom nom nom \n"
          ]
        }
      ]
    },
    {
      "cell_type": "code",
      "source": [
        "print(myint == 10)\n",
        "print(myfloat != 20)\n",
        "print(myint > 20)\n",
        "print(myfloat < 10)\n",
        "print(\"Combinations!\")\n",
        "print(5 < myint and myint <20)\n",
        "print(5 < myint or 25.0 < myfloat)\n",
        "print(10 < myint or 25.0 < myfloat)\n",
        "print(not(10 < myint))\n",
        "myint = \"Hello World!\"\n",
        "print(myint)"
      ],
      "metadata": {
        "colab": {
          "base_uri": "https://localhost:8080/"
        },
        "id": "A_VMZGuasVih",
        "outputId": "52b558da-dbd1-45d3-f4de-caf12944ba68"
      },
      "execution_count": null,
      "outputs": [
        {
          "output_type": "stream",
          "name": "stdout",
          "text": [
            "True\n",
            "True\n",
            "False\n",
            "False\n",
            "Combinations!\n",
            "True\n",
            "True\n",
            "False\n",
            "True\n",
            "Hello World!\n"
          ]
        }
      ]
    },
    {
      "cell_type": "code",
      "source": [
        "mylist = [1, 2, 3, 4, \"Ali\", \"Mohammad\", True]\n",
        "print(mylist)\n",
        "print(mylist[-1])\n",
        "print(mylist[0])\n",
        "print(mylist[::-1])\n",
        "print(mylist[1:5:2])\n",
        "anotherlist=[6,7,8]\n",
        "mylist = mylist + anotherlist\n",
        "print(mylist)\n",
        "print(1 in mylist)\n",
        "print(12 in mylist)"
      ],
      "metadata": {
        "colab": {
          "base_uri": "https://localhost:8080/"
        },
        "id": "n1679nXDJunq",
        "outputId": "efd82224-b0e1-4257-9b7e-bd556011b98f"
      },
      "execution_count": null,
      "outputs": [
        {
          "output_type": "stream",
          "name": "stdout",
          "text": [
            "[1, 2, 3, 4, 'Ali', 'Mohammad', True]\n",
            "True\n",
            "1\n",
            "[True, 'Mohammad', 'Ali', 4, 3, 2, 1]\n",
            "[2, 4]\n",
            "[1, 2, 3, 4, 'Ali', 'Mohammad', True, 6, 7, 8]\n",
            "True\n",
            "False\n"
          ]
        }
      ]
    },
    {
      "cell_type": "code",
      "source": [
        "mytuple = (10,11,12)\n",
        "print(mytuple[1])\n",
        "print(1 in mytuple)\n",
        "myset = {1,2,2,2,3,4,5}\n",
        "print(myset)\n",
        "print(2 in myset)\n",
        "mystr = \"Mohammad\"\n",
        "print(mystr[1])\n",
        "print(mystr[::-1])"
      ],
      "metadata": {
        "colab": {
          "base_uri": "https://localhost:8080/"
        },
        "id": "48WFtKImKhGh",
        "outputId": "58830cbf-3b16-4b36-da3f-7cf24201c071"
      },
      "execution_count": null,
      "outputs": [
        {
          "output_type": "stream",
          "name": "stdout",
          "text": [
            "11\n",
            "False\n",
            "{1, 2, 3, 4, 5}\n",
            "True\n",
            "o\n",
            "dammahoM\n"
          ]
        }
      ]
    },
    {
      "cell_type": "code",
      "source": [
        "mydict = {\n",
        "    1 : \"One\",\n",
        "    2: \"Two\",\n",
        "    \"Three\": 3,\n",
        "    \"Four\" : [1,2,3,4],\n",
        "    5.2 : \"Five\"\n",
        "}\n",
        "print(mydict)\n",
        "print(mydict[\"Four\"])\n",
        "print(mydict.keys())\n",
        "print(mydict.values())\n",
        "for key, value in mydict.items():\n",
        "  print(key, value)\n",
        "print(5.2 in mydict)\n",
        "print(5.3 in mydict)"
      ],
      "metadata": {
        "colab": {
          "base_uri": "https://localhost:8080/"
        },
        "id": "ZsdN3pbuwUvI",
        "outputId": "bb5a947e-2547-4dd4-886a-b4b9f4d5b109"
      },
      "execution_count": null,
      "outputs": [
        {
          "output_type": "stream",
          "name": "stdout",
          "text": [
            "{1: 'One', 2: 'Two', 'Three': 3, 'Four': [1, 2, 3, 4], 5.2: 'Five'}\n",
            "[1, 2, 3, 4]\n",
            "dict_keys([1, 2, 'Three', 'Four', 5.2])\n",
            "dict_values(['One', 'Two', 3, [1, 2, 3, 4], 'Five'])\n",
            "1 One\n",
            "2 Two\n",
            "Three 3\n",
            "Four [1, 2, 3, 4]\n",
            "5.2 Five\n",
            "True\n",
            "False\n"
          ]
        }
      ]
    },
    {
      "cell_type": "code",
      "source": [
        "x, y= 10, 100\n",
        "if x < y:\n",
        "  print(\"X is less than Y.\")\n",
        "elif x==y:\n",
        "  print(\"X equals Y.\")\n",
        "else:\n",
        "  print(\"X is greater than Y.\")\n",
        "x, y=100, 100\n",
        "result = \"X is less than or equals Y.\" if(x<=y) else \"X is greater than Y.\"\n",
        "print(result)"
      ],
      "metadata": {
        "colab": {
          "base_uri": "https://localhost:8080/"
        },
        "id": "6RbMSWqtz3lR",
        "outputId": "4d9319df-3440-4078-b6db-2215bbb70ba8"
      },
      "execution_count": null,
      "outputs": [
        {
          "output_type": "stream",
          "name": "stdout",
          "text": [
            "X is less than Y.\n",
            "X is less than or equals Y.\n"
          ]
        }
      ]
    },
    {
      "cell_type": "code",
      "source": [
        "days=[\"Mon\",\"Tue\",\"Wed\",\"Thu\",\"Fri\",\"Sat\",\"Sun\"]\n",
        "for d in days:\n",
        "  print(d)\n",
        "print(\"----------\")\n",
        "\n",
        "for d in days:\n",
        "  if d==\"Fri\":\n",
        "    break\n",
        "  print(d)\n",
        "print(\"----------\")\n",
        "\n",
        "for d in days:\n",
        "  if d==\"Thu\":\n",
        "    continue\n",
        "  print(d)\n",
        "print(\"----------\")\n",
        "\n",
        "for i,d in enumerate(days):\n",
        "  print(i, d)\n",
        "print(\"----------\")"
      ],
      "metadata": {
        "colab": {
          "base_uri": "https://localhost:8080/"
        },
        "id": "_Aip_rGurGrI",
        "outputId": "9cfa7ae3-04d8-4c88-c29f-58472832587b"
      },
      "execution_count": null,
      "outputs": [
        {
          "output_type": "stream",
          "name": "stdout",
          "text": [
            "Mon\n",
            "Tue\n",
            "Wed\n",
            "Thu\n",
            "Fri\n",
            "Sat\n",
            "Sun\n",
            "----------\n",
            "Mon\n",
            "Tue\n",
            "Wed\n",
            "Thu\n",
            "----------\n",
            "Mon\n",
            "Tue\n",
            "Wed\n",
            "Fri\n",
            "Sat\n",
            "Sun\n",
            "----------\n",
            "0 Mon\n",
            "1 Tue\n",
            "2 Wed\n",
            "3 Thu\n",
            "4 Fri\n",
            "5 Sat\n",
            "6 Sun\n",
            "----------\n"
          ]
        }
      ]
    },
    {
      "cell_type": "code",
      "source": [
        "ans=input(\"Should I stop?\")\n",
        "while ans!=\"yes\":\n",
        "  print(ans)\n",
        "  ans=input(\"Should I stop?\")"
      ],
      "metadata": {
        "colab": {
          "base_uri": "https://localhost:8080/"
        },
        "id": "VvjXCfaNr9g3",
        "outputId": "77be7872-0d78-410b-aa13-009800fdf1af"
      },
      "execution_count": null,
      "outputs": [
        {
          "name": "stdout",
          "output_type": "stream",
          "text": [
            "Should I stop?No\n",
            "No\n",
            "Should I stop?Mohammad\n",
            "Mohammad\n",
            "Should I stop?yes\n"
          ]
        }
      ]
    },
    {
      "cell_type": "code",
      "source": [
        "def print_name():\n",
        "  name=input(\"What is your name?\")\n",
        "  print(\"Hi, \", name, \"!\")\n",
        "\n",
        "print_name();\n",
        "\n",
        "def greeting_name(greeting, name=None):\n",
        "  if name==None:\n",
        "    name=input(\"What is your name\")\n",
        "  print(greeting, name)\n",
        "\n",
        "greeting_name(\"How are your doing\", \"Vahid\")\n",
        "greeting_name(\"What's up\")\n",
        "\n",
        "def cube(x):\n",
        "  return x*x*x\n",
        "\n",
        "result=cube(3)\n",
        "print(result)"
      ],
      "metadata": {
        "colab": {
          "base_uri": "https://localhost:8080/"
        },
        "id": "z7teei0vZpIM",
        "outputId": "b10f8c03-c3fb-4663-da5c-f16e11eed7c3"
      },
      "execution_count": null,
      "outputs": [
        {
          "output_type": "stream",
          "name": "stdout",
          "text": [
            "What is your name?Vahid\n",
            "Hi,  Vahid !\n",
            "How are your doing Vahid\n",
            "What is your nameVahid\n",
            "What's up Vahid\n",
            "27\n"
          ]
        }
      ]
    },
    {
      "cell_type": "code",
      "source": [
        "mystr=\"This is my string!\"\n",
        "mylist=[1,25,6,9,2,13,19]\n",
        "print(len(mystr))\n",
        "print(len(mylist))\n",
        "print(max(mystr))\n",
        "print(min(mylist))"
      ],
      "metadata": {
        "colab": {
          "base_uri": "https://localhost:8080/"
        },
        "id": "yB7fzOUJ39eh",
        "outputId": "4908446f-a2d5-45ae-d1b9-096efae8ad4d"
      },
      "execution_count": null,
      "outputs": [
        {
          "output_type": "stream",
          "name": "stdout",
          "text": [
            "18\n",
            "7\n",
            "y\n",
            "1\n"
          ]
        }
      ]
    },
    {
      "cell_type": "code",
      "source": [
        "result=\"My lucky number is\" + str(7)\n",
        "print(result)\n",
        "result=\"Pi is \" + str(3.1415)\n",
        "print(result)"
      ],
      "metadata": {
        "colab": {
          "base_uri": "https://localhost:8080/"
        },
        "id": "g0EcJt5n7R4N",
        "outputId": "3fa49453-8157-4151-df30-21e1e554c3ae"
      },
      "execution_count": null,
      "outputs": [
        {
          "output_type": "stream",
          "name": "stdout",
          "text": [
            "My lucky number is7\n",
            "Pi is 3.1415\n"
          ]
        }
      ]
    },
    {
      "cell_type": "code",
      "source": [
        "for i in range(5,16):\n",
        "  print(i)\n",
        "for i in range(2,len(result),2):\n",
        "  print(result[i])\n",
        "greeting=\"Hello\"\n",
        "count=2\n",
        "print(f\"{greeting}! I have {count} hands.\")"
      ],
      "metadata": {
        "colab": {
          "base_uri": "https://localhost:8080/"
        },
        "id": "sSoK57zA99c0",
        "outputId": "b4c2b165-464f-4a26-b138-fd7d2c4c7866"
      },
      "execution_count": null,
      "outputs": [
        {
          "output_type": "stream",
          "name": "stdout",
          "text": [
            "5\n",
            "6\n",
            "7\n",
            "8\n",
            "9\n",
            "10\n",
            "11\n",
            "12\n",
            "13\n",
            "14\n",
            "15\n",
            " \n",
            "s\n",
            "3\n",
            "1\n",
            "1\n",
            "Hello! I have 2 hands.\n"
          ]
        }
      ]
    },
    {
      "cell_type": "code",
      "source": [
        "class vehicle:\n",
        "  def __init__(self, engine):\n",
        "    self.engine=engine\n",
        "\n",
        "  def drive(self, speed):\n",
        "    self.mode=\"driving\"\n",
        "    self.speed=speed\n",
        "\n",
        "class car(vehicle):\n",
        "  def __init__(self, engine):\n",
        "    super().__init__(engine)\n",
        "    self.doors=4\n",
        "\n",
        "  def drive(self, speed):\n",
        "    super().drive(speed)\n",
        "    print(f\"I am driving my car with speed {speed}!\")\n",
        "\n",
        "car1=car(\"Electric\")\n",
        "car1.drive(50)"
      ],
      "metadata": {
        "colab": {
          "base_uri": "https://localhost:8080/"
        },
        "id": "V5fLOZ3WiYs8",
        "outputId": "6853aa44-f7d5-4f91-eb54-fcd1a20291d2"
      },
      "execution_count": null,
      "outputs": [
        {
          "output_type": "stream",
          "name": "stdout",
          "text": [
            "I am driving my car with speed 50!\n"
          ]
        }
      ]
    },
    {
      "cell_type": "code",
      "source": [
        "import math\n",
        "\n",
        "num=16\n",
        "print(f\"The square root of {num} is {math.sqrt(num)}\")\n",
        "\n",
        "import random as r\n",
        "\n",
        "print(f\"A random number between 100 and 200 is {r.randint(100,200)}\")\n",
        "\n",
        "import tabulate\n",
        "\n",
        "data=[\n",
        "    [\"Product\",\"Price\",\"Stock\"],\n",
        "    [\"Laptop\",999.99,45],\n",
        "    [\"Mouse\",24.99,128]\n",
        "]\n",
        "print(tabulate.tabulate(data,headers=\"firstrow\",tablefmt=\"fancy_grid\"))"
      ],
      "metadata": {
        "colab": {
          "base_uri": "https://localhost:8080/"
        },
        "id": "Vj3no7HKPIre",
        "outputId": "8c2afe97-619e-4644-d0a5-1c2ffcf1ee64"
      },
      "execution_count": null,
      "outputs": [
        {
          "output_type": "stream",
          "name": "stdout",
          "text": [
            "The square root of 16 is 4.0\n",
            "A random number between 100 and 200 is 112\n",
            "╒═══════════╤═════════╤═════════╕\n",
            "│ Product   │   Price │   Stock │\n",
            "╞═══════════╪═════════╪═════════╡\n",
            "│ Laptop    │  999.99 │      45 │\n",
            "├───────────┼─────────┼─────────┤\n",
            "│ Mouse     │   24.99 │     128 │\n",
            "╘═══════════╧═════════╧═════════╛\n"
          ]
        }
      ]
    },
    {
      "cell_type": "code",
      "source": [
        "try:\n",
        "  num=input(\"You want to divide 10 by what number?\")\n",
        "  print(f\"The result is {10/int(num)}\")\n",
        "except ZeroDivisionError as e:\n",
        "  print(\"You can't divide by zero!\")\n",
        "  print(e)\n",
        "except ValueError as e:\n",
        "  print(\"You should enter a valid number\")\n",
        "  print(e)"
      ],
      "metadata": {
        "colab": {
          "base_uri": "https://localhost:8080/"
        },
        "id": "CynNBdG3XQt5",
        "outputId": "f1bd4253-a270-4269-eee0-252641139839"
      },
      "execution_count": null,
      "outputs": [
        {
          "output_type": "stream",
          "name": "stdout",
          "text": [
            "You want to divide 10 by what number?10\n",
            "The result is 1.0\n"
          ]
        }
      ]
    },
    {
      "cell_type": "code",
      "source": [
        "def is_palindrome(teststr):\n",
        "    s=0\n",
        "    e=len(teststr)-1\n",
        "    teststr=str.lower(teststr)\n",
        "    print(teststr)\n",
        "    while s<e:\n",
        "        print(teststr[s],teststr[e])\n",
        "        if not teststr[s].isalpha():\n",
        "          s=s+1\n",
        "          print(\"a\")\n",
        "          continue\n",
        "        if not teststr[e].isalpha():\n",
        "          e=e-1\n",
        "          print(\"b\")\n",
        "          continue\n",
        "        if teststr[s]!=teststr[e]:\n",
        "          print(\"c\")\n",
        "          return False\n",
        "        s=s+1\n",
        "        e=e-1\n",
        "    return True\n",
        "\n",
        "is_palindrome(\"Madam, I'm Adam.\")"
      ],
      "metadata": {
        "colab": {
          "base_uri": "https://localhost:8080/"
        },
        "id": "r1lLTJZzayEd",
        "outputId": "e8e7eaed-d908-4726-d820-f9ea48e99029"
      },
      "execution_count": null,
      "outputs": [
        {
          "output_type": "stream",
          "name": "stdout",
          "text": [
            "madam, i'm adam.\n",
            "m .\n",
            "b\n",
            "m m\n",
            "a a\n",
            "d d\n",
            "a a\n",
            "m  \n",
            "b\n",
            "m m\n",
            ", '\n",
            "a\n",
            "  '\n",
            "a\n",
            "i '\n",
            "b\n"
          ]
        },
        {
          "output_type": "execute_result",
          "data": {
            "text/plain": [
              "True"
            ]
          },
          "metadata": {},
          "execution_count": 12
        }
      ]
    },
    {
      "cell_type": "code",
      "source": [
        "from datetime import datetime\n",
        "from datetime import date\n",
        "\n",
        "#date usage\n",
        "today=date.today()\n",
        "print(f\"Today date is {today}\")\n",
        "days=[\"Mon\",\"Tue\",\"Wed\",\"Thu\",\"Fri\",\"Sat\",\"Sum\"]\n",
        "print(f\"Today year: {today.year} month: {today.month} day: {today.day} day of the week: {days[today.weekday()]}\")\n",
        "\n",
        "# datetime usage\n",
        "today=datetime.now()\n",
        "print(f\"Today datetime is {today}\")\n",
        "print(f\"Time is {today.time()}\")"
      ],
      "metadata": {
        "colab": {
          "base_uri": "https://localhost:8080/"
        },
        "id": "Ij5u7nk8mm1n",
        "outputId": "9d2ec8f8-925e-4c6a-c8a2-2dc94132006b"
      },
      "execution_count": 8,
      "outputs": [
        {
          "output_type": "stream",
          "name": "stdout",
          "text": [
            "Today date is 2025-08-08\n",
            "Today year: 2025 month: 8 day: 8 day of the week: Fri\n",
            "Today datetime is 2025-08-08 16:59:31.140179\n",
            "Time is 16:59:31.140179\n"
          ]
        }
      ]
    },
    {
      "cell_type": "code",
      "source": [
        "now = datetime.now()\n",
        "print(now.strftime(\"Year: %Y weekday: %A month: %B day: %D\"))\n",
        "print(now.strftime(\"Year: %y weekday: %a month: %b day: %d\"))\n",
        "print(now.strftime(\"%c - %x\"))\n",
        "print(now.strftime(\"%C - %X\"))\n",
        "print(now.strftime(\"%I %M %S %p\"))\n",
        "print(now.strftime(\"%H %M %S %p\"))"
      ],
      "metadata": {
        "colab": {
          "base_uri": "https://localhost:8080/"
        },
        "id": "rVG2Uzi-wylP",
        "outputId": "3ee44708-5516-4f31-d132-a9dd24fa517b"
      },
      "execution_count": 13,
      "outputs": [
        {
          "output_type": "stream",
          "name": "stdout",
          "text": [
            "Year: 2025 weekday: Friday month: August day: 08/08/25\n",
            "Year: 25 weekday: Fri month: Aug day: 08\n",
            "Fri Aug  8 17:45:54 2025 - 08/08/25\n",
            "20 - 17:45:54\n",
            "05 45 54 PM\n",
            "17 45 54 PM\n"
          ]
        }
      ]
    },
    {
      "cell_type": "code",
      "source": [
        "from datetime import date\n",
        "from datetime import datetime\n",
        "from datetime import timedelta\n",
        "\n",
        "today = date.today()\n",
        "print(\"Today: \"+str(today.strftime(\"%c\")))\n",
        "afd=date(today.year,4,1)\n",
        "print(today.month)\n",
        "print(\"Next April fools' day: \"+str(afd.strftime(\"%c\")))\n",
        "if afd<today:\n",
        "  afd=afd.replace(year=today.year+1)\n",
        "time_to_afd = afd-today\n",
        "print(f\"{time_to_afd.days} days to the next April fools' day!\")"
      ],
      "metadata": {
        "colab": {
          "base_uri": "https://localhost:8080/"
        },
        "id": "eV3rJ6e3gwcK",
        "outputId": "d8872932-857f-4579-9879-b79c35639b39"
      },
      "execution_count": 10,
      "outputs": [
        {
          "output_type": "stream",
          "name": "stdout",
          "text": [
            "Today: Sat Aug  9 00:00:00 2025\n",
            "8\n",
            "Next April fools' day: Tue Apr  1 00:00:00 2025\n",
            "235 days to the next April fools' day!\n"
          ]
        }
      ]
    },
    {
      "cell_type": "code",
      "source": [
        "import calendar\n",
        "\n",
        "c = calendar.TextCalendar(calendar.SUNDAY)\n",
        "strc = c.formatmonth(2025,8,0,0)\n",
        "print(strc)\n",
        "for i in c.itermonthdays(2025,8):\n",
        "  print(i)"
      ],
      "metadata": {
        "colab": {
          "base_uri": "https://localhost:8080/"
        },
        "id": "v22SV5z5ieAC",
        "outputId": "743db36d-42cc-4cbe-f01c-53c78350d74c"
      },
      "execution_count": 15,
      "outputs": [
        {
          "output_type": "stream",
          "name": "stdout",
          "text": [
            "    August 2025\n",
            "Su Mo Tu We Th Fr Sa\n",
            "                1  2\n",
            " 3  4  5  6  7  8  9\n",
            "10 11 12 13 14 15 16\n",
            "17 18 19 20 21 22 23\n",
            "24 25 26 27 28 29 30\n",
            "31\n",
            "\n",
            "0\n",
            "0\n",
            "0\n",
            "0\n",
            "0\n",
            "1\n",
            "2\n",
            "3\n",
            "4\n",
            "5\n",
            "6\n",
            "7\n",
            "8\n",
            "9\n",
            "10\n",
            "11\n",
            "12\n",
            "13\n",
            "14\n",
            "15\n",
            "16\n",
            "17\n",
            "18\n",
            "19\n",
            "20\n",
            "21\n",
            "22\n",
            "23\n",
            "24\n",
            "25\n",
            "26\n",
            "27\n",
            "28\n",
            "29\n",
            "30\n",
            "31\n",
            "0\n",
            "0\n",
            "0\n",
            "0\n",
            "0\n",
            "0\n"
          ]
        }
      ]
    },
    {
      "cell_type": "code",
      "source": [
        "hc=calendar.HTMLCalendar(calendar.SUNDAY)\n",
        "strhc=hc.formatmonth(2025,8)\n",
        "print(strhc)"
      ],
      "metadata": {
        "colab": {
          "base_uri": "https://localhost:8080/"
        },
        "id": "OBmnBEvqkL0E",
        "outputId": "da921c95-9fcc-4599-930e-187b1439b3aa"
      },
      "execution_count": 12,
      "outputs": [
        {
          "output_type": "stream",
          "name": "stdout",
          "text": [
            "<table border=\"0\" cellpadding=\"0\" cellspacing=\"0\" class=\"month\">\n",
            "<tr><th colspan=\"7\" class=\"month\">August 2025</th></tr>\n",
            "<tr><th class=\"sun\">Sun</th><th class=\"mon\">Mon</th><th class=\"tue\">Tue</th><th class=\"wed\">Wed</th><th class=\"thu\">Thu</th><th class=\"fri\">Fri</th><th class=\"sat\">Sat</th></tr>\n",
            "<tr><td class=\"noday\">&nbsp;</td><td class=\"noday\">&nbsp;</td><td class=\"noday\">&nbsp;</td><td class=\"noday\">&nbsp;</td><td class=\"noday\">&nbsp;</td><td class=\"fri\">1</td><td class=\"sat\">2</td></tr>\n",
            "<tr><td class=\"sun\">3</td><td class=\"mon\">4</td><td class=\"tue\">5</td><td class=\"wed\">6</td><td class=\"thu\">7</td><td class=\"fri\">8</td><td class=\"sat\">9</td></tr>\n",
            "<tr><td class=\"sun\">10</td><td class=\"mon\">11</td><td class=\"tue\">12</td><td class=\"wed\">13</td><td class=\"thu\">14</td><td class=\"fri\">15</td><td class=\"sat\">16</td></tr>\n",
            "<tr><td class=\"sun\">17</td><td class=\"mon\">18</td><td class=\"tue\">19</td><td class=\"wed\">20</td><td class=\"thu\">21</td><td class=\"fri\">22</td><td class=\"sat\">23</td></tr>\n",
            "<tr><td class=\"sun\">24</td><td class=\"mon\">25</td><td class=\"tue\">26</td><td class=\"wed\">27</td><td class=\"thu\">28</td><td class=\"fri\">29</td><td class=\"sat\">30</td></tr>\n",
            "<tr><td class=\"sun\">31</td><td class=\"noday\">&nbsp;</td><td class=\"noday\">&nbsp;</td><td class=\"noday\">&nbsp;</td><td class=\"noday\">&nbsp;</td><td class=\"noday\">&nbsp;</td><td class=\"noday\">&nbsp;</td></tr>\n",
            "</table>\n",
            "\n"
          ]
        }
      ]
    },
    {
      "cell_type": "code",
      "source": [
        "for m in calendar.month_name:\n",
        "  print(m)\n",
        "print(\"-----------------------\")\n",
        "for d in calendar.day_name:\n",
        "  print(d)"
      ],
      "metadata": {
        "colab": {
          "base_uri": "https://localhost:8080/"
        },
        "id": "3lDyQZ2N2Ld1",
        "outputId": "69ecbf9a-b87e-4536-9641-0ea54c51f5f0"
      },
      "execution_count": 17,
      "outputs": [
        {
          "output_type": "stream",
          "name": "stdout",
          "text": [
            "\n",
            "January\n",
            "February\n",
            "March\n",
            "April\n",
            "May\n",
            "June\n",
            "July\n",
            "August\n",
            "September\n",
            "October\n",
            "November\n",
            "December\n",
            "-----------------------\n",
            "Monday\n",
            "Tuesday\n",
            "Wednesday\n",
            "Thursday\n",
            "Friday\n",
            "Saturday\n",
            "Sunday\n"
          ]
        }
      ]
    },
    {
      "cell_type": "code",
      "source": [
        "print(\"The meeting will be on: \")\n",
        "for m in range(1,13):\n",
        "  cal=calendar.monthcalendar(2025,m)\n",
        "  weekone=cal[0]\n",
        "  weektwo=cal[1]\n",
        "  if(weekone[calendar.FRIDAY]!=0):\n",
        "    meetday=weekone[calendar.FRIDAY]\n",
        "  else:\n",
        "    meetday=weektwo[calendar.FRIDAY]\n",
        "  print(f\"{calendar.month_name[m]}: first Friday is {meetday}\")"
      ],
      "metadata": {
        "colab": {
          "base_uri": "https://localhost:8080/"
        },
        "id": "eGFmAnoQ3e-8",
        "outputId": "0d8ed773-8ae4-4408-96cc-69a99f8a03cb"
      },
      "execution_count": 21,
      "outputs": [
        {
          "output_type": "stream",
          "name": "stdout",
          "text": [
            "The meeting will be on: \n",
            "January: first Friday is 3\n",
            "February: first Friday is 7\n",
            "March: first Friday is 7\n",
            "April: first Friday is 4\n",
            "May: first Friday is 2\n",
            "June: first Friday is 6\n",
            "July: first Friday is 4\n",
            "August: first Friday is 1\n",
            "September: first Friday is 5\n",
            "October: first Friday is 3\n",
            "November: first Friday is 7\n",
            "December: first Friday is 5\n"
          ]
        }
      ]
    },
    {
      "cell_type": "code",
      "source": [
        "def count_days(year, month, whichday):\n",
        "    cal=calendar.monthcalendar(year,month)\n",
        "    count=0\n",
        "    for i in range(0,5):\n",
        "      week=cal[i]\n",
        "      if week[whichday]!=0:\n",
        "        count=count+1\n",
        "    return count\n",
        "\n",
        "print(count_days(2030,1,5))"
      ],
      "metadata": {
        "colab": {
          "base_uri": "https://localhost:8080/"
        },
        "id": "btcVKFtP5D3F",
        "outputId": "8c34c08d-697e-45b7-8b0f-5a40d9dcf35d"
      },
      "execution_count": 24,
      "outputs": [
        {
          "output_type": "stream",
          "name": "stdout",
          "text": [
            "4\n"
          ]
        }
      ]
    },
    {
      "cell_type": "code",
      "source": [
        "sample_file = open(\"sample_file.txt\",\"w+\")\n",
        "sample_file.write(\"This is a sample text.\")\n",
        "sample_file.close()\n",
        "sample_file = open(\"sample_file.txt\",\"a+\")\n",
        "sample_file.write(\"This is more text.\")\n",
        "sample_file.write(\"This is even more text.\")\n",
        "sample_file.close()"
      ],
      "metadata": {
        "id": "20A7QuztJPYU"
      },
      "execution_count": 7,
      "outputs": []
    },
    {
      "cell_type": "code",
      "source": [
        "sample_file=open(\"sample_file.txt\",\"r\")\n",
        "if(sample_file.mode==\"r\"):\n",
        "  content=sample_file.read()\n",
        "  print(content)"
      ],
      "metadata": {
        "colab": {
          "base_uri": "https://localhost:8080/"
        },
        "id": "Ojs8nkTyNaKk",
        "outputId": "c9e08e5b-ea1e-4b7c-84b5-7dddafe4b235"
      },
      "execution_count": 8,
      "outputs": [
        {
          "output_type": "stream",
          "name": "stdout",
          "text": [
            "This is a sample text.This is more text.This is even more text.\n"
          ]
        }
      ]
    },
    {
      "cell_type": "code",
      "source": [
        "sample_file=open(\"sample_file.txt\",\"r\")\n",
        "if(sample_file.mode==\"r\"):\n",
        "  for line in sample_file.readlines():\n",
        "    print(line)"
      ],
      "metadata": {
        "colab": {
          "base_uri": "https://localhost:8080/"
        },
        "id": "5YhZOEbhOBhC",
        "outputId": "6a562bfa-98e6-4059-d493-dc242967d2f9"
      },
      "execution_count": 9,
      "outputs": [
        {
          "output_type": "stream",
          "name": "stdout",
          "text": [
            "This is a sample text.This is more text.This is even more text.\n"
          ]
        }
      ]
    },
    {
      "cell_type": "code",
      "source": [
        "import os\n",
        "\n",
        "print(os.name)"
      ],
      "metadata": {
        "colab": {
          "base_uri": "https://localhost:8080/"
        },
        "id": "ET0F_FuWOx_c",
        "outputId": "9e80a93c-ea4c-47f8-990f-906590240cfc"
      },
      "execution_count": 10,
      "outputs": [
        {
          "output_type": "stream",
          "name": "stdout",
          "text": [
            "posix\n"
          ]
        }
      ]
    },
    {
      "cell_type": "code",
      "source": [
        "from os import path\n",
        "exists=path.exists(\"sample_file.txt\")\n",
        "isfile=path.isfile(\"sample_file.txt\")\n",
        "isdir=path.isdir(\"sample_file.txt\")\n",
        "print(f\"Item exists: {exists} is file: {isfile} is dir: {isdir}\")"
      ],
      "metadata": {
        "colab": {
          "base_uri": "https://localhost:8080/"
        },
        "id": "Wq_YaPsmPXg_",
        "outputId": "8d211fc2-5c2f-42e2-b7e3-069babe522ff"
      },
      "execution_count": 11,
      "outputs": [
        {
          "output_type": "stream",
          "name": "stdout",
          "text": [
            "Item exists: True is file: True is dir: False\n"
          ]
        }
      ]
    },
    {
      "cell_type": "code",
      "source": [
        "p=path.realpath(\"sample_file.txt\")\n",
        "sp=path.split(path.realpath(\"sample_file.txt\"))\n",
        "print(f\"Path is: {p}\")\n",
        "print(f\"Split path is: {sp}\")"
      ],
      "metadata": {
        "colab": {
          "base_uri": "https://localhost:8080/"
        },
        "id": "OHt-_-MhQWM7",
        "outputId": "f9f684c9-73a5-4c25-9bf3-1d7d700f6f8f"
      },
      "execution_count": 12,
      "outputs": [
        {
          "output_type": "stream",
          "name": "stdout",
          "text": [
            "Path is: /content/sample_file.txt\n",
            "Split path is: ('/content', 'sample_file.txt')\n"
          ]
        }
      ]
    },
    {
      "cell_type": "code",
      "source": [
        "import time\n",
        "from os import path\n",
        "from datetime import datetime\n",
        "\n",
        "t=time.ctime(path.getmtime(\"sample_file.txt\"))\n",
        "print(t)\n",
        "print(datetime.fromtimestamp(path.getmtime(\"sample_file.txt\")))\n",
        "td=datetime.now()-datetime.fromtimestamp(path.getmtime(\"sample_file.txt\"))\n",
        "print(f\"It has been {td} from the file modification.\")\n",
        "print(f\"It has been {td.total_seconds()} from file modifications.\")"
      ],
      "metadata": {
        "colab": {
          "base_uri": "https://localhost:8080/"
        },
        "id": "1eC9Y0KOgJT2",
        "outputId": "27c29bfe-9196-4f33-ef08-67defb0cd3d7"
      },
      "execution_count": 15,
      "outputs": [
        {
          "output_type": "stream",
          "name": "stdout",
          "text": [
            "Sun Aug 10 01:07:59 2025\n",
            "2025-08-10 01:07:59.098478\n",
            "It has been 0:04:58.539494 from the file modification.\n",
            "It has been 298.539494 from file modifications.\n"
          ]
        }
      ]
    },
    {
      "cell_type": "code",
      "source": [
        "import os\n",
        "from os import path\n",
        "import shutil\n",
        "\n",
        "if path.exists(\"sample_file.txt\"):\n",
        "  src=path.realpath(\"sample_file.txt\")\n",
        "  dst=src+\".bak\"\n",
        "  shutil.copy(src,dst)"
      ],
      "metadata": {
        "id": "ttcZA2PZhfUq"
      },
      "execution_count": 16,
      "outputs": []
    },
    {
      "cell_type": "code",
      "source": [
        "os.rename(\"sample_file.txt\",\"new_file.txt\")"
      ],
      "metadata": {
        "colab": {
          "base_uri": "https://localhost:8080/",
          "height": 141
        },
        "id": "CQjWcSYUkIqe",
        "outputId": "d909c88c-e8f9-4afa-977e-3ae1d344674c"
      },
      "execution_count": 18,
      "outputs": [
        {
          "output_type": "error",
          "ename": "FileNotFoundError",
          "evalue": "[Errno 2] No such file or directory: 'sample_file.txt' -> 'new_file.txt'",
          "traceback": [
            "\u001b[0;31m---------------------------------------------------------------------------\u001b[0m",
            "\u001b[0;31mFileNotFoundError\u001b[0m                         Traceback (most recent call last)",
            "\u001b[0;32m/tmp/ipython-input-1779320529.py\u001b[0m in \u001b[0;36m<cell line: 0>\u001b[0;34m()\u001b[0m\n\u001b[0;32m----> 1\u001b[0;31m \u001b[0mos\u001b[0m\u001b[0;34m.\u001b[0m\u001b[0mrename\u001b[0m\u001b[0;34m(\u001b[0m\u001b[0;34m\"sample_file.txt\"\u001b[0m\u001b[0;34m,\u001b[0m\u001b[0;34m\"new_file.txt\"\u001b[0m\u001b[0;34m)\u001b[0m\u001b[0;34m\u001b[0m\u001b[0;34m\u001b[0m\u001b[0m\n\u001b[0m",
            "\u001b[0;31mFileNotFoundError\u001b[0m: [Errno 2] No such file or directory: 'sample_file.txt' -> 'new_file.txt'"
          ]
        }
      ]
    },
    {
      "cell_type": "code",
      "source": [
        "if path.exists(\"new_file.txt\"):\n",
        "  src=path.realpath(\"new_file.txt\")\n",
        "  root_dir, tail = path.split(src)\n",
        "  shutil.make_archive(\"archive\",\"zip\",root_dir)"
      ],
      "metadata": {
        "id": "XLfF5YQdlyP2"
      },
      "execution_count": 19,
      "outputs": []
    },
    {
      "cell_type": "code",
      "source": [
        "from zipfile import ZipFile\n",
        "\n",
        "with ZipFile(\"test_zip.zip\",\"w\") as newzip:\n",
        "  newzip.write(\"new_file.txt\")\n",
        "  newzip.write(\"sample_file.txt.bak\")"
      ],
      "metadata": {
        "id": "Qe8vRsH3qeET"
      },
      "execution_count": 21,
      "outputs": []
    },
    {
      "cell_type": "code",
      "source": [
        "import os\n",
        "\n",
        "def file_info():\n",
        "    count=0\n",
        "    for entry in os.listdir(\".\"):\n",
        "      if os.path.isfile(entry):\n",
        "        count=count+os.path.getsize(entry)\n",
        "    return count\n",
        "\n",
        "file_info()"
      ],
      "metadata": {
        "colab": {
          "base_uri": "https://localhost:8080/"
        },
        "id": "Rz7H4NDBr9zd",
        "outputId": "1ed94ff1-bc60-46a8-e8a4-7d5cbbe3e1ee"
      },
      "execution_count": 29,
      "outputs": [
        {
          "output_type": "execute_result",
          "data": {
            "text/plain": [
              "7077152"
            ]
          },
          "metadata": {},
          "execution_count": 29
        }
      ]
    },
    {
      "cell_type": "code",
      "source": [
        "import urllib.request\n",
        "\n",
        "web_url=urllib.request.urlopen(\"http://www.example.com\")\n",
        "print(f\"Result code: {web_url.getcode()}\")\n",
        "data=web_url.read()\n",
        "print(data)"
      ],
      "metadata": {
        "colab": {
          "base_uri": "https://localhost:8080/"
        },
        "id": "mmf5f___1j2b",
        "outputId": "2ad7c04d-dda7-4b7c-87d8-95b740d5f98e"
      },
      "execution_count": 31,
      "outputs": [
        {
          "output_type": "stream",
          "name": "stdout",
          "text": [
            "Result code: 200\n",
            "b'<!doctype html>\\n<html>\\n<head>\\n    <title>Example Domain</title>\\n\\n    <meta charset=\"utf-8\" />\\n    <meta http-equiv=\"Content-type\" content=\"text/html; charset=utf-8\" />\\n    <meta name=\"viewport\" content=\"width=device-width, initial-scale=1\" />\\n    <style type=\"text/css\">\\n    body {\\n        background-color: #f0f0f2;\\n        margin: 0;\\n        padding: 0;\\n        font-family: -apple-system, system-ui, BlinkMacSystemFont, \"Segoe UI\", \"Open Sans\", \"Helvetica Neue\", Helvetica, Arial, sans-serif;\\n        \\n    }\\n    div {\\n        width: 600px;\\n        margin: 5em auto;\\n        padding: 2em;\\n        background-color: #fdfdff;\\n        border-radius: 0.5em;\\n        box-shadow: 2px 3px 7px 2px rgba(0,0,0,0.02);\\n    }\\n    a:link, a:visited {\\n        color: #38488f;\\n        text-decoration: none;\\n    }\\n    @media (max-width: 700px) {\\n        div {\\n            margin: 0 auto;\\n            width: auto;\\n        }\\n    }\\n    </style>    \\n</head>\\n\\n<body>\\n<div>\\n    <h1>Example Domain</h1>\\n    <p>This domain is for use in illustrative examples in documents. You may use this\\n    domain in literature without prior coordination or asking for permission.</p>\\n    <p><a href=\"https://www.iana.org/domains/example\">More information...</a></p>\\n</div>\\n</body>\\n</html>\\n'\n"
          ]
        }
      ]
    },
    {
      "cell_type": "code",
      "source": [
        "import json\n",
        "\n",
        "web_url=urllib.request.urlopen(\"https://uselessfacts.jsph.pl/api/v2/facts/random\")\n",
        "print(f\"Result code: {web_url.getcode()}\")\n",
        "data=web_url.read()\n",
        "print(data)\n",
        "thejson=json.loads(data)\n",
        "print(thejson[\"text\"])"
      ],
      "metadata": {
        "colab": {
          "base_uri": "https://localhost:8080/"
        },
        "id": "vYMANA1w3tTe",
        "outputId": "f59ae64a-1040-494c-d92a-39ca5400b6c5"
      },
      "execution_count": 35,
      "outputs": [
        {
          "output_type": "stream",
          "name": "stdout",
          "text": [
            "Result code: 200\n",
            "b'{\"id\":\"c148658a39a4687f266294c9cb5bb4c0\",\"text\":\"Jefferson invented the dumbwaiter, the monetary system, and the folding attic ladder.\",\"source\":\"djtech.net\",\"source_url\":\"http://www.djtech.net/humor/useless_facts.htm\",\"language\":\"en\",\"permalink\":\"https://uselessfacts.jsph.pl/api/v2/facts/c148658a39a4687f266294c9cb5bb4c0\"}\\n'\n",
            "Jefferson invented the dumbwaiter, the monetary system, and the folding attic ladder.\n"
          ]
        }
      ]
    },
    {
      "cell_type": "code",
      "source": [
        "import xml.dom.minidom\n",
        "\n",
        "doc=xml.dom.minidom.parse(\"text.xml\")\n",
        "print(doc.nodeName)\n",
        "print(doc.firstChild.tagName)\n",
        "skills=doc.getElementsByTagName(\"skill\")\n",
        "print(f\"Skills count: {skills.length}\")\n",
        "for skill in skills:\n",
        "  print(skill.getAttribute(\"name\"))"
      ],
      "metadata": {
        "colab": {
          "base_uri": "https://localhost:8080/"
        },
        "id": "xTJCPFaY6mUx",
        "outputId": "9908eb69-550b-465e-c13f-afee05408883"
      },
      "execution_count": 43,
      "outputs": [
        {
          "output_type": "stream",
          "name": "stdout",
          "text": [
            "#document\n",
            "person\n",
            "Skills count: 4\n",
            "JavaScript\n",
            "Python\n",
            "C#\n",
            "HTML\n"
          ]
        }
      ]
    },
    {
      "cell_type": "code",
      "source": [
        "doc=xml.dom.minidom.parse(\"text.xml\")\n",
        "new_skill=doc.createElement(\"skill\")\n",
        "new_skill.setAttribute(\"name\",\"Java\")\n",
        "doc.firstChild.appendChild(new_skill)\n",
        "\n",
        "print(doc.nodeName)\n",
        "print(doc.firstChild.tagName)\n",
        "skills=doc.getElementsByTagName(\"skill\")\n",
        "print(f\"Skills count: {skills.length}\")\n",
        "for skill in skills:\n",
        "  print(skill.getAttribute(\"name\"))"
      ],
      "metadata": {
        "colab": {
          "base_uri": "https://localhost:8080/"
        },
        "id": "M6FNeFOW9R9_",
        "outputId": "bd590bfb-0a01-4242-d441-f544bba2cdd4"
      },
      "execution_count": 48,
      "outputs": [
        {
          "output_type": "stream",
          "name": "stdout",
          "text": [
            "#document\n",
            "person\n",
            "Skills count: 5\n",
            "JavaScript\n",
            "Python\n",
            "C#\n",
            "HTML\n",
            "Java\n"
          ]
        }
      ]
    }
  ]
}
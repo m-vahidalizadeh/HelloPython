{
  "nbformat": 4,
  "nbformat_minor": 0,
  "metadata": {
    "colab": {
      "provenance": [],
      "authorship_tag": "ABX9TyP1u1VtbyLwWAUpLaUdUszZ",
      "include_colab_link": true
    },
    "kernelspec": {
      "name": "python3",
      "display_name": "Python 3"
    },
    "language_info": {
      "name": "python"
    }
  },
  "cells": [
    {
      "cell_type": "markdown",
      "metadata": {
        "id": "view-in-github",
        "colab_type": "text"
      },
      "source": [
        "<a href=\"https://colab.research.google.com/github/m-vahidalizadeh/HelloPython/blob/main/helloPython.ipynb\" target=\"_parent\"><img src=\"https://colab.research.google.com/assets/colab-badge.svg\" alt=\"Open In Colab\"/></a>"
      ]
    },
    {
      "cell_type": "code",
      "execution_count": null,
      "metadata": {
        "colab": {
          "base_uri": "https://localhost:8080/"
        },
        "id": "ft5q3ROjZiIB",
        "outputId": "ed278adb-d180-4622-9e89-bf5c5f3d5526"
      },
      "outputs": [
        {
          "output_type": "stream",
          "name": "stdout",
          "text": [
            "Hello World!\n",
            "What is your name? Vahid\n",
            "Nice to meet you Vahid\n"
          ]
        }
      ],
      "source": [
        "print(\"Hello World!\")\n",
        "name = input(\"What is your name? \")\n",
        "print(\"Nice to meet you\", name)"
      ]
    },
    {
      "cell_type": "code",
      "source": [
        "# This is my first comment\n",
        "myint = 10\n",
        "myfloat = 13.2576\n",
        "mystr = \"This is a string\"\n",
        "mybool = True\n",
        "print(myint)\n",
        "print(mystr)\n",
        "print(myint + myfloat)\n",
        "print(myint * myfloat)\n",
        "print(myint / myfloat)\n",
        "print(myint % 3)"
      ],
      "metadata": {
        "colab": {
          "base_uri": "https://localhost:8080/"
        },
        "id": "ovLopBv1byKj",
        "outputId": "1db8dbab-2375-4d81-8b57-ce9a81b81498"
      },
      "execution_count": null,
      "outputs": [
        {
          "output_type": "stream",
          "name": "stdout",
          "text": [
            "10\n",
            "This is a string\n",
            "23.2576\n",
            "132.576\n",
            "0.7542843350229302\n",
            "1\n"
          ]
        }
      ]
    },
    {
      "cell_type": "code",
      "source": [
        "another_str = \"This is another string\"\n",
        "print(mystr + another_str)\n",
        "print(\"nom \" * 3)\n",
        "# print(mystr + myint)"
      ],
      "metadata": {
        "colab": {
          "base_uri": "https://localhost:8080/"
        },
        "id": "BL1aPGVOef5H",
        "outputId": "2709c4ec-621f-449b-a125-fccb2ffd5f0a"
      },
      "execution_count": 8,
      "outputs": [
        {
          "output_type": "stream",
          "name": "stdout",
          "text": [
            "This is a stringThis is another string\n",
            "nom nom nom \n"
          ]
        }
      ]
    },
    {
      "cell_type": "code",
      "source": [
        "print(myint == 10)\n",
        "print(myfloat != 20)\n",
        "print(myint > 20)\n",
        "print(myfloat < 10)\n",
        "print(\"Combinations!\")\n",
        "print(5 < myint and myint <20)\n",
        "print(5 < myint or 25.0 < myfloat)\n",
        "print(10 < myint or 25.0 < myfloat)\n",
        "print(not(10 < myint))\n",
        "myint = \"Hello World!\"\n",
        "print(myint)"
      ],
      "metadata": {
        "colab": {
          "base_uri": "https://localhost:8080/"
        },
        "id": "A_VMZGuasVih",
        "outputId": "52b558da-dbd1-45d3-f4de-caf12944ba68"
      },
      "execution_count": 12,
      "outputs": [
        {
          "output_type": "stream",
          "name": "stdout",
          "text": [
            "True\n",
            "True\n",
            "False\n",
            "False\n",
            "Combinations!\n",
            "True\n",
            "True\n",
            "False\n",
            "True\n",
            "Hello World!\n"
          ]
        }
      ]
    },
    {
      "cell_type": "code",
      "source": [
        "mylist = [1, 2, 3, 4, \"Ali\", \"Mohammad\", True]\n",
        "print(mylist)\n",
        "print(mylist[-1])\n",
        "print(mylist[0])\n",
        "print(mylist[::-1])\n",
        "print(mylist[1:5:2])\n",
        "anotherlist=[6,7,8]\n",
        "mylist = mylist + anotherlist\n",
        "print(mylist)\n",
        "print(1 in mylist)\n",
        "print(12 in mylist)"
      ],
      "metadata": {
        "colab": {
          "base_uri": "https://localhost:8080/"
        },
        "id": "n1679nXDJunq",
        "outputId": "efd82224-b0e1-4257-9b7e-bd556011b98f"
      },
      "execution_count": 1,
      "outputs": [
        {
          "output_type": "stream",
          "name": "stdout",
          "text": [
            "[1, 2, 3, 4, 'Ali', 'Mohammad', True]\n",
            "True\n",
            "1\n",
            "[True, 'Mohammad', 'Ali', 4, 3, 2, 1]\n",
            "[2, 4]\n",
            "[1, 2, 3, 4, 'Ali', 'Mohammad', True, 6, 7, 8]\n",
            "True\n",
            "False\n"
          ]
        }
      ]
    },
    {
      "cell_type": "code",
      "source": [
        "mytuple = (10,11,12)\n",
        "print(mytuple[1])\n",
        "print(1 in mytuple)\n",
        "myset = {1,2,2,2,3,4,5}\n",
        "print(myset)\n",
        "print(2 in myset)\n",
        "mystr = \"Mohammad\"\n",
        "print(mystr[1])\n",
        "print(mystr[::-1])"
      ],
      "metadata": {
        "colab": {
          "base_uri": "https://localhost:8080/"
        },
        "id": "48WFtKImKhGh",
        "outputId": "58830cbf-3b16-4b36-da3f-7cf24201c071"
      },
      "execution_count": 3,
      "outputs": [
        {
          "output_type": "stream",
          "name": "stdout",
          "text": [
            "11\n",
            "False\n",
            "{1, 2, 3, 4, 5}\n",
            "True\n",
            "o\n",
            "dammahoM\n"
          ]
        }
      ]
    }
  ]
}